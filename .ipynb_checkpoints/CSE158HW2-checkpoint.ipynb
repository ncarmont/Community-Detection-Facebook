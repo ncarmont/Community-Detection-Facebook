{
 "cells": [
  {
   "cell_type": "markdown",
   "metadata": {},
   "source": [
    "# CSE158 HW2 - Nicolas Carmont Zaragoza (A15677088)"
   ]
  },
  {
   "cell_type": "markdown",
   "metadata": {},
   "source": [
    "TASK 1 - CLASSIFIER EVALUATION"
   ]
  },
  {
   "cell_type": "markdown",
   "metadata": {},
   "source": [
    "Q1) Split data equally and randomly into training, validation and test tests. After training on the training set, report the accurracy of the classifier on the validation and test sets."
   ]
  },
  {
   "cell_type": "code",
   "execution_count": 7,
   "metadata": {},
   "outputs": [
    {
     "name": "stdout",
     "output_type": "stream",
     "text": [
      "Reading data...\n",
      "done\n",
      "lambda = 1.0:\t trnaccuracy=0.7199087963518541\n",
      "lambda = 1.0:\t vaccuracy=0.7188456230875383\n",
      "lambda = 1.0:\t tstaccuracy=0.7172856542869143\n"
     ]
    }
   ],
   "source": [
    "import numpy\n",
    "from urllib.request import urlopen\n",
    "import scipy.optimize\n",
    "import random\n",
    "from math import exp\n",
    "from math import log\n",
    "\n",
    "#def parseData(fname):\n",
    "  #for l in urlopen(fname):\n",
    "   # yield eval(l)\n",
    "\n",
    "print(\"Reading data...\")\n",
    "#data = list(parseData(\"http://jmcauley.ucsd.edu/cse190/data/beer/beer_50000.json\"))\n",
    "import urllib.request\n",
    "def parseData(fname):\n",
    "\tfor l in urllib.request.urlopen(fname):\n",
    "\t\tyield eval(l)\n",
    "data = list(parseData(\"http://jmcauley.ucsd.edu/cse258/data/beer/beer_50000.json\"))\n",
    "print(\"done\")\n",
    "\n",
    "def feature(datum):\n",
    "  feat = [1, datum['review/taste'], datum['review/appearance'], datum['review/aroma'], datum['review/palate'], datum['review/overall']]\n",
    "  return feat\n",
    "\n",
    "X = [feature(d) for d in data]\n",
    "y = [d['beer/ABV'] >= 6.5 for d in data]\n",
    "\n",
    "def inner(x,y):\n",
    "  return sum([x[i]*y[i] for i in range(len(x))])\n",
    "\n",
    "def sigmoid(x):\n",
    "  return 1.0 / (1 + exp(-x))\n",
    "\n",
    "##################################################\n",
    "# Logistic regression by gradient ascent         #\n",
    "##################################################\n",
    "\n",
    "# NEGATIVE Log-likelihood\n",
    "def f(theta, X, y, lam):\n",
    "  loglikelihood = 0\n",
    "  for i in range(len(X)):\n",
    "    logit = inner(X[i], theta)\n",
    "    loglikelihood -= log(1 + exp(-logit))\n",
    "    if not y[i]:\n",
    "      loglikelihood -= logit\n",
    "  for k in range(len(theta)):\n",
    "    loglikelihood -= lam * theta[k]*theta[k]\n",
    "  # for debugging\n",
    "  # print(\"ll =\" + str(loglikelihood))\n",
    "  return -loglikelihood\n",
    "\n",
    "# NEGATIVE Derivative of log-likelihood\n",
    "def fprime(theta, X, y, lam):\n",
    "  dl = [0]*len(theta)\n",
    "  for i in range(len(X)):\n",
    "    logit = inner(X[i], theta)\n",
    "    for k in range(len(theta)):\n",
    "      dl[k] += X[i][k] * (1 - sigmoid(logit))\n",
    "      if not y[i]:\n",
    "        dl[k] -= X[i][k]\n",
    "  for k in range(len(theta)):\n",
    "    dl[k] -= lam*2*theta[k]\n",
    "  return numpy.array([-x for x in dl])\n",
    "\n",
    "randXY = list(zip(X, y))\n",
    "random.shuffle(randXY)\n",
    "randX = list()\n",
    "randY=list()\n",
    "randX[:], randY[:] = zip(*randXY)\n",
    "\n",
    "\n",
    "X_train = randX[:16666]\n",
    "#print(\"length of xtrn1:\" + str(len(X_train)) + \"\\n\")\n",
    "X_valid = randX[:33333]\n",
    "X_valid = X_valid[16666:]\n",
    "#print(\"length of xtrn2:\" + str(len(X_train)) + \"\\n\")\n",
    "X_test = randX[33333:]\n",
    "#print(\"length of xtrn3:\" + str(len(X_train)) + \"\\n\")\n",
    "\n",
    "Y_train = randY[:16666]\n",
    "#print(\"length of xtrn1:\" + str(len(X_train)) + \"\\n\")\n",
    "Y_valid = randY[:33333]\n",
    "Y_valid = Y_valid[16666:]\n",
    "#print(\"length of xtrn2:\" + str(len(X_train)) + \"\\n\")\n",
    "Y_test = randY[33333:]\n",
    "#print(\"length of xtrn3:\" + str(len(X_train)) + \"\\n\")\n",
    "\n",
    "\n",
    "##################################################\n",
    "# Train                                          #\n",
    "##################################################\n",
    "\n",
    "def train(lam):\n",
    "  theta,_,_ = scipy.optimize.fmin_l_bfgs_b(f, [0]*len(X_train[0]), fprime, pgtol = 10, args = (X_train, Y_train, lam))\n",
    "  return theta\n",
    "\n",
    "##################################################\n",
    "# Predict                                        #\n",
    "##################################################\n",
    "\n",
    "def performance(theta):\n",
    "  scores = [inner(theta,x) for x in X_train]\n",
    "  # print(scores[10000:])\n",
    "  predictions = [s > 0 for s in scores]\n",
    "  correct = [(a==b) for (a,b) in zip(predictions,Y_train)]\n",
    "  acc = sum(correct) * 1.0 / len(correct)\n",
    "  return acc\n",
    "\n",
    "def performanceTst(theta):\n",
    "  scores = [inner(theta,x) for x in X_test]\n",
    "  predictions = [s > 0 for s in scores]\n",
    "  correct = [(a==b) for (a,b) in zip(predictions,Y_test)]\n",
    "  acc = sum(correct) * 1.0 / len(correct)\n",
    "  return acc\n",
    "\n",
    "def performanceVal(theta):\n",
    "  scores = [inner(theta,x) for x in X_valid]\n",
    "  predictions = [s > 0 for s in scores]\n",
    "  correct = [(a==b) for (a,b) in zip(predictions,Y_valid)]\n",
    "  acc = sum(correct) * 1.0 / len(correct)\n",
    "  return acc\n",
    "\n",
    "##################################################\n",
    "# Validation pipeline                            #\n",
    "##################################################\n",
    "\n",
    "lam = 1.0\n",
    "theta = train(lam)\n",
    "accTrn = performance(theta)\n",
    "accVal = performanceVal(theta)\n",
    "accTst = performanceTst(theta)\n",
    "\n",
    "print(\"lambda = \" + str(lam) + \":\\t trnaccuracy=\" + str(accTrn))\n",
    "print(\"lambda = \" + str(lam) + \":\\t vaccuracy=\" + str(accVal))\n",
    "print(\"lambda = \" + str(lam) + \":\\t tstaccuracy=\" + str(accTst))"
   ]
  },
  {
   "cell_type": "markdown",
   "metadata": {},
   "source": [
    "The above classifier gives the following results for accuracy on the training, validation and test data sets for a hyperparameter of lambda = 1.0:\n",
    "\n",
    "Training data Accuracy = 0.7234489379575183\n",
    "Validation data Accuracy = 0.7151256974860503\n",
    "Training data Accuracy = 0.7177656446871062\n",
    "\n",
    "As these accuracy values are very similiar between sets, this may suggest that our model is not overfitting (or that it generalises well to new data). Noenetheless we may be undefitting and the model may be too general as an accuracy of 0.7 isn't very accurate, which we may test in the following Question."
   ]
  },
  {
   "cell_type": "markdown",
   "metadata": {},
   "source": [
    "Q2.) Report the number of Positives, Negatives, True Positives, True Negatives, True Negatives, False Positives and False Negatives using the test set of the classifier."
   ]
  },
  {
   "cell_type": "code",
   "execution_count": 8,
   "metadata": {},
   "outputs": [
    {
     "name": "stdout",
     "output_type": "stream",
     "text": [
      "Neg:6218\n",
      "Pos:10449\n",
      "Total:16667\n",
      "\n",
      "False Neg:1421\n",
      "True Pos:9028\n",
      "Total Pos(FN+TP):10449\n",
      "\n",
      "False Pos:3291\n",
      "True Neg:2927\n",
      "Total Neg(FP+TN):6218\n",
      "\n"
     ]
    }
   ],
   "source": [
    "def positives(theta):\n",
    "    posN = sum(Y_test)\n",
    "    return posN\n",
    "\n",
    "def negatives(theta):\n",
    "    correct = [(a==False) for a in Y_test]\n",
    "    negN = sum(correct)\n",
    "    return negN\n",
    "\n",
    "def truePositives(theta):\n",
    "    scores = [inner(theta,x) for x in X_test]\n",
    "    predictions = [s > 0 for s in scores]\n",
    "    correct = [((a==True) & (b==True)) for (a,b) in zip(predictions,Y_test)]\n",
    "    tPos = sum(correct)\n",
    "    return tPos\n",
    "\n",
    "def falsePositives(theta):\n",
    "    scores = [inner(theta,x) for x in X_test]\n",
    "    predictions = [s > 0 for s in scores]\n",
    "    correct = [((a==True) & (b==False)) for (a,b) in zip(predictions,Y_test)]\n",
    "    fPos = sum(correct)\n",
    "    return fPos\n",
    "\n",
    "def trueNegatives(theta):\n",
    "    scores = [inner(theta,x) for x in X_test]\n",
    "    predictions = [s > 0 for s in scores]\n",
    "    correct = [((a==False) & (b==False)) for (a,b) in zip(predictions,Y_test)]\n",
    "    tNeg = sum(correct)\n",
    "    return tNeg\n",
    "\n",
    "def falseNegatives(theta):\n",
    "    scores = [inner(theta,x) for x in X_test]\n",
    "    predictions = [s > 0 for s in scores]\n",
    "    correct = [((a==False) & (b==True)) for (a,b) in zip(predictions,Y_test)]\n",
    "    fNeg = sum(correct)\n",
    "    return fNeg\n",
    "\n",
    "N = negatives(theta)\n",
    "P = positives(theta)\n",
    "Tot= positives(theta)+negatives(theta)\n",
    "\n",
    "FN = falseNegatives(theta)\n",
    "TP = truePositives(theta)\n",
    "TotP = falseNegatives(theta)+truePositives(theta)\n",
    "\n",
    "FP = falsePositives(theta)\n",
    "TN = trueNegatives(theta)\n",
    "TotN =falsePositives(theta)+trueNegatives(theta)\n",
    "\n",
    "print(\"Neg:\"+str(N))\n",
    "print(\"Pos:\"+str(P))\n",
    "print(\"Total:\"+str(Tot)+\"\\n\")\n",
    "\n",
    "print(\"False Neg:\"+str(FN))\n",
    "print(\"True Pos:\"+str(TP))\n",
    "print(\"Total Pos(FN+TP):\"+str(FN+TP)+\"\\n\")\n",
    "\n",
    "print(\"False Pos:\"+str(FP))\n",
    "print(\"True Neg:\"+str(TN))\n",
    "print(\"Total Neg(FP+TN):\"+str(FP + TN)+\"\\n\")\n",
    "\n"
   ]
  },
  {
   "cell_type": "markdown",
   "metadata": {},
   "source": [
    "Above are the reported statistics.\n",
    "Checking that the total amount of Negatives is equal to FP + TN and that Positives is equal to FP + TP, we see that both are correct.\n"
   ]
  },
  {
   "cell_type": "markdown",
   "metadata": {},
   "source": [
    "Q3.) Report the Precision, Recall, the Precision@100 and the Recall@100 of the classifier."
   ]
  },
  {
   "cell_type": "code",
   "execution_count": 9,
   "metadata": {},
   "outputs": [
    {
     "name": "stdout",
     "output_type": "stream",
     "text": [
      "Precision: 0.7328516925075087\n",
      "Recall: 0.8640061249880371\n",
      "Precision@k=100: 0.94\n",
      "Recall@k=100: 0.005639887202255955\n"
     ]
    }
   ],
   "source": [
    "Precision = TP/(TP+FP)   #num of relevant reccomended items/ reccomended items\n",
    "\n",
    "Recall =  TP/(FN+TP)  #num of relevant reccomended items/ relevant items\n",
    "\n",
    "print(\"Precision: \"+str(Precision))\n",
    "print(\"Recall: \"+str(Recall))\n",
    "\n",
    "\n",
    "def precisionAtK(k,theta):\n",
    "    scores = [inner(theta,x) for x in X_test]\n",
    "    s=sorted(zip(scores, Y_test))\n",
    "    sortScore,sortY = zip(*s)\n",
    "    sortScore = list(sortScore)\n",
    "    sortY = list(sortY)\n",
    "    sortScore.reverse()\n",
    "    sortY.reverse()\n",
    "    #print(sortScore)\n",
    "    sortY = sortY[:k]\n",
    "    \n",
    "    predictions = [s > 0 for s in sortScore[:k]]\n",
    "    \n",
    "    #TP \n",
    "    TP1 = [((a==True) & (b==True)) for (a,b) in zip(predictions,sortY[:k])]\n",
    "    tTP = sum(TP1)\n",
    "    \n",
    "    #FP \n",
    "    FP1 = [((a==True) & (b==False)) for (a,b) in zip(predictions,sortY[:k])]\n",
    "    tFP = sum(FP1)\n",
    "    \n",
    "    denom = tFP+tTP\n",
    "    if (denom ==0):\n",
    "        denom =1\n",
    "    prec = tTP/(denom)\n",
    "    return prec\n",
    "\n",
    "\n",
    "def recallAtK(k,theta):\n",
    "    scores = [inner(theta,x) for x in X_test]\n",
    "    s=sorted(zip(scores, Y_test))\n",
    "    sortScore,sortY = zip(*s)\n",
    "    sortScore = list(sortScore)\n",
    "    sortY = list(sortY)\n",
    "    sortScore.reverse()\n",
    "    sortY.reverse()\n",
    "    #print(sortScore)\n",
    "    sortY = sortY[:k]\n",
    "    \n",
    "    \n",
    "    predictions = [s > 0 for s in sortScore[:k]]\n",
    "    #print(predictions)\n",
    "    \n",
    "    #TP \n",
    "    TP1 = [((a==True) & (b==True)) for (a,b) in zip(predictions,sortY)]\n",
    "    tTP = sum(TP1)\n",
    "    \n",
    "    #FN \n",
    "    FN1 = [((a==False) & (b==True)) for (a,b) in zip(predictions,sortY)]\n",
    "   # print(predictions)\n",
    "    tFN = sum(FN1)\n",
    "    #print(tFN)\n",
    "    \n",
    "    denom = TotP+TotN\n",
    "    rec = tTP/(denom)\n",
    "    return rec\n",
    "\n",
    "k =100\n",
    "\n",
    "print(\"Precision@k=\"+str(k)+ \": \" + str(precisionAtK(k,theta)))\n",
    "print(\"Recall@k=\"+str(k)+ \": \" + str(recallAtK(k,theta)))\n"
   ]
  },
  {
   "cell_type": "markdown",
   "metadata": {},
   "source": [
    "The above values were acheieved for Precision and Recall.\n"
   ]
  },
  {
   "cell_type": "markdown",
   "metadata": {},
   "source": [
    "Q4.) Using a plotting library generate a precision/recall curve from your classifier"
   ]
  },
  {
   "cell_type": "code",
   "execution_count": 10,
   "metadata": {
    "scrolled": true
   },
   "outputs": [
    {
     "data": {
      "image/png": "[encoded data removed]",
      "text/plain": [
       "<Figure size 432x288 with 1 Axes>"
      ]
     },
     "metadata": {
      "needs_background": "light"
     },
     "output_type": "display_data"
    }
   ],
   "source": [
    "import matplotlib.pyplot as plt\n",
    "precisionVals = [precisionAtK(n,theta) for n in range(1,len(Y_test),1000)]     #len(Y_test)+1)]\n",
    "recallVals = [recallAtK(n,theta) for n in range(1,len(Y_test),1000)]          #len(Y_test)+1)]\n",
    "plt.plot(recallVals, precisionVals)\n",
    "plt.show()"
   ]
  },
  {
   "cell_type": "markdown",
   "metadata": {},
   "source": [
    "This data gave a relationship where the higher the recall, the lower the precision."
   ]
  },
  {
   "cell_type": "markdown",
   "metadata": {},
   "source": [
    "TASK2 - COMMUNITY DETECTION"
   ]
  },
  {
   "cell_type": "markdown",
   "metadata": {},
   "source": [
    "Q5.) Amount of connected components in the Facebook ego-network data graph and amount of nodes in the largest connected component"
   ]
  },
  {
   "cell_type": "code",
   "execution_count": 11,
   "metadata": {
    "scrolled": false
   },
   "outputs": [
    {
     "data": {
      "image/png": "[encoded data removed]",
      "text/plain": [
       "<Figure size 432x288 with 1 Axes>"
      ]
     },
     "metadata": {},
     "output_type": "display_data"
    },
    {
     "name": "stdout",
     "output_type": "stream",
     "text": [
      "There are 3 connected components\n",
      "Nodes in largest connected component: 40\n"
     ]
    },
    {
     "data": {
      "text/plain": [
       "<Figure size 432x288 with 0 Axes>"
      ]
     },
     "metadata": {},
     "output_type": "display_data"
    }
   ],
   "source": [
    "import networkx as nx\n",
    "import matplotlib.pyplot as plt\n",
    "\n",
    "y = open(\"egonet.txt\")\n",
    "nodes1 = list()\n",
    "nodes2 = list()\n",
    "for edges in y:\n",
    "    split1,split2 = edges.split()\n",
    "    nodes1.append(split1)\n",
    "    nodes2.append(split2)\n",
    "nodesFb = list(zip(nodes1,nodes2))\n",
    "\n",
    "edges = set()\n",
    "nodes = set()\n",
    "\n",
    "for edge in nodesFb:\n",
    "    x,y = edge[0],edge[1]\n",
    "    x,y = int(x),int(y)\n",
    "    edges.add((x,y))\n",
    "    edges.add((y,x))\n",
    "    nodes.add(x)\n",
    "    nodes.add(y)\n",
    "\n",
    "G = nx.Graph()\n",
    "for e in edges:\n",
    "    G.add_edge(e[0],e[1])\n",
    "nx.draw(G)\n",
    "plt.show()\n",
    "plt.clf()\n",
    "\n",
    "connectedComp = nx.number_connected_components(G)\n",
    "print(\"There are \" +str(connectedComp)+\" connected components\")\n",
    "\n",
    "connectedComponentSubGraphs= nx.connected_component_subgraphs(G)\n",
    "maxConnectedComponent = max(connectedComponentSubGraphs, key=len)\n",
    "maxNodes = len(maxConnectedComponent)\n",
    "print(\"Nodes in largest connected component: \" +str(maxNodes))"
   ]
  },
  {
   "cell_type": "markdown",
   "metadata": {},
   "source": [
    "Q6.) Normalised-cut cost of the 50/50 split found above"
   ]
  },
  {
   "cell_type": "code",
   "execution_count": 12,
   "metadata": {},
   "outputs": [
    {
     "name": "stdout",
     "output_type": "stream",
     "text": [
      "normalised Cut Cost: 0.74062893081761\n"
     ]
    }
   ],
   "source": [
    "sortedNodes = list(maxConnectedComponent.nodes)\n",
    "sortedNodes.sort()\n",
    "\n",
    "nodesSplit1 = sortedNodes[:20]\n",
    "nodesSplit2 = sortedNodes[20:]\n",
    "\n",
    "cuts = 0\n",
    "edgesCounter1=0\n",
    "edgesCounter2=0\n",
    "\n",
    "for edge in maxConnectedComponent.edges:   # count cuts\n",
    "    x,y = edge[0],edge[1]\n",
    "    x,y = int(x),int(y)\n",
    "    if(((x in nodesSplit1) & (y in nodesSplit2)) | ((x in nodesSplit2) & (y in nodesSplit1))):\n",
    "        cuts+=1\n",
    "    if ((x in nodesSplit1) & (y in nodesSplit1)):\n",
    "        edgesCounter1+=2\n",
    "    if ((x in nodesSplit2) & (y in nodesSplit2)):\n",
    "        edgesCounter2+=2\n",
    "        \n",
    "        \n",
    "normalisedCutCost = (1/2)*cuts*((1/edgesCounter1)+(1/edgesCounter2))\n",
    "print(\"normalised Cut Cost: \"+ str(normalisedCutCost))\n"
   ]
  },
  {
   "cell_type": "markdown",
   "metadata": {},
   "source": [
    "Q7.) Find the elements of the split using the greedy algorithm and find its normalised cut cost."
   ]
  },
  {
   "cell_type": "code",
   "execution_count": 19,
   "metadata": {},
   "outputs": [
    {
     "name": "stdout",
     "output_type": "stream",
     "text": [
      "Local Minimum normalised cut sets:\n",
      "set1: [697, 703, 708, 713, 719, 729, 745, 747, 753, 769, 772, 774, 798, 800, 803, 804, 805, 810, 811]\n",
      "set2: [823, 825, 828, 830, 840, 856, 861, 863, 864, 869, 876, 878, 880, 882, 884, 886, 888, 889, 890, 893, 819]\n"
     ]
    }
   ],
   "source": [
    "finalSet1 = nodesSplit1\n",
    "finalSet2 = nodesSplit2\n",
    "def normalisedCutCoster(n1,n2): \n",
    "    cuts=0\n",
    "    edgesCounter1=1\n",
    "    edgesCounter2=1\n",
    "    for edge in maxConnectedComponent.edges:   # count cuts\n",
    "        x,y = edge[0],edge[1]\n",
    "        x,y = int(x),int(y)\n",
    "        if(((x in  n1) & (y in n2)) | ((x in n1) & (y in n2))):\n",
    "            cuts+=1\n",
    "        if ((x in n1) & (y in n1)):\n",
    "            edgesCounter1+=2\n",
    "        if ((x in n2) & (y in n2)):\n",
    "            edgesCounter2+=2\n",
    "            \n",
    "        nCutCost = (1/2)*cuts*((1/edgesCounter1)+(1/edgesCounter2))\n",
    "        return nCutCost\n",
    "\n",
    "prevCut=normalisedCutCoster(finalSet1,finalSet2)\n",
    "\n",
    "for i in range(1,100000):\n",
    "    set1 = list(finalSet1)\n",
    "    set2 = list(finalSet2)\n",
    "    a = set1[-1]\n",
    "    set2.append(a)\n",
    "    set1.pop()\n",
    "    if (normalisedCutCoster(set1,set2)>prevCut):\n",
    "        a = set2[-1]\n",
    "        set1.insert(0,a)\n",
    "        set2.pop()\n",
    "        \n",
    "        a = set2[-1]\n",
    "        set1.append(a)\n",
    "        set2.pop()\n",
    "        \n",
    "        if (normalisedCutCoster(set1,set2)>prevCut):\n",
    "            break\n",
    "    else:\n",
    "        prevCut =normalisedCutCoster(set1,set2)\n",
    "        \n",
    "print(\"Local Minimum normalised cut sets:\")\n",
    "print(\"set1: \" + str(set1))\n",
    "print(\"set2: \" + str(set2))"
   ]
  },
  {
   "cell_type": "markdown",
   "metadata": {},
   "source": [
    "Q8.) Reimplement the greedy algorithm to instead maximise modularity"
   ]
  },
  {
   "cell_type": "code",
   "execution_count": null,
   "metadata": {},
   "outputs": [],
   "source": [
    "fSet1 = nodesSplit1\n",
    "fSet2 = nodesSplit2\n",
    "\n",
    "def modularity(n1,n2): \n",
    "    cuts=0\n",
    "    ekk1=0\n",
    "    ekk2=0\n",
    "    ak1=0\n",
    "    ak2=0\n",
    "    for edge in maxConnectedComponent.edges:   # count cuts\n",
    "        if ((x in n1) & (y in n1)):\n",
    "            ekk1+=1\n",
    "        if ((x in n2) & (y in n2)):\n",
    "            ekk2+=1\n",
    "    ak1 = len(n1)/(len(n1)+len(n2))\n",
    "    ak2 = len(n2)/(len(n1)+len(n2))\n",
    "    ekk1= ekk1/(ekk1+ekk2) \n",
    "    ekk2 = ekk2/(ekk1+ekk2) \n",
    "    mod = (ekk1-ak1**2)+(ekk2-ak2**2)\n",
    "    return mod\n",
    "\n",
    "modl=modularity(fSet1,fSet2)\n",
    "\n",
    "for i in range(1,100000):\n",
    "    set1 = list(fSet1)\n",
    "    set2 = list(fSet2)\n",
    "    a = set1[-1]\n",
    "    set2.append(a)\n",
    "    set1.pop()\n",
    "    if (modularity(set1,set2)>modl):\n",
    "        a = set2[-1]\n",
    "        set1.insert(0,a)\n",
    "        set2.pop()\n",
    "        \n",
    "        a = set2[-1]\n",
    "        set1.append(a)\n",
    "        set2.pop()\n",
    "        \n",
    "        if (modularity(set1,set2)>modl):\n",
    "            break\n",
    "    else:\n",
    "        modl =modularity(set1,set2)\n",
    "        \n",
    "print(\"Local Minimum normalised cut sets:\")\n",
    "print(\"set1: \" + str(set1))\n",
    "print(\"set2: \" + str(set2))\n",
    "    "
   ]
  },
  {
   "cell_type": "code",
   "execution_count": null,
   "metadata": {},
   "outputs": [],
   "source": []
  }
 ],
 "metadata": {
  "kernelspec": {
   "display_name": "Python 3",
   "language": "python",
   "name": "python3"
  },
  "language_info": {
   "codemirror_mode": {
    "name": "ipython",
    "version": 3
   },
   "file_extension": ".py",
   "mimetype": "text/x-python",
   "name": "python",
   "nbconvert_exporter": "python",
   "pygments_lexer": "ipython3",
   "version": "3.7.0"
  }
 },
 "nbformat": 4,
 "nbformat_minor": 2
}
